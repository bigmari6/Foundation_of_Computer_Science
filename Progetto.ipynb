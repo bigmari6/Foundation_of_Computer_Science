{
 "cells": [
  {
   "cell_type": "markdown",
   "metadata": {},
   "source": [
    "# Progetto Foundation of Computer Science"
   ]
  },
  {
   "cell_type": "markdown",
   "metadata": {},
   "source": [
    "#### Università di Milano Bicocca, Andrea Marinoni 799690"
   ]
  },
  {
   "cell_type": "markdown",
   "metadata": {},
   "source": [
    "Viene importata la libreria **pandas** e la libreria **re**"
   ]
  },
  {
   "cell_type": "code",
   "execution_count": 1,
   "metadata": {},
   "outputs": [],
   "source": [
    "import pandas as pd\n",
    "import re\n",
    "import warnings\n",
    "warnings.filterwarnings(\"ignore\")"
   ]
  },
  {
   "cell_type": "markdown",
   "metadata": {},
   "source": [
    "I dataset vengono importati, si presta attenzione al separatore delle colonne"
   ]
  },
  {
   "cell_type": "code",
   "execution_count": 2,
   "metadata": {},
   "outputs": [],
   "source": [
    "books=pd.read_csv(r'Books.csv', sep=';', encoding='latin1')\n",
    "books_rating=pd.read_csv(r'Book-Ratings.csv', sep=';', encoding='latin1')                        \n",
    "goodbooks=pd.read_csv(r'goodbooks.csv', sep=',', encoding='latin1')\n",
    "goodbooks_rating=pd.read_csv(r'goodbooks-ratings.csv', sep=',', encoding='latin1')\n",
    "users=pd.read_csv(r'Users.csv', sep = ';', encoding='latin1')"
   ]
  },
  {
   "cell_type": "markdown",
   "metadata": {},
   "source": [
    "**1. Normalize the location field of Users dataset, splitting into city, region, country.**"
   ]
  },
  {
   "cell_type": "markdown",
   "metadata": {},
   "source": [
    "Si normalizza il testo del campo Location"
   ]
  },
  {
   "cell_type": "code",
   "execution_count": 3,
   "metadata": {},
   "outputs": [],
   "source": [
    "users['Location'] = users['Location'].apply(str)\n",
    "users['Location'] = users['Location'].str.lower()\n",
    "users['Location'] = users['Location'].str.replace(r'\\d+', '', regex=True)"
   ]
  },
  {
   "cell_type": "markdown",
   "metadata": {},
   "source": [
    "Il campo Location viene splittato per ottenere city, region, country"
   ]
  },
  {
   "cell_type": "code",
   "execution_count": 4,
   "metadata": {},
   "outputs": [
    {
     "data": {
      "text/html": [
       "<div>\n",
       "<style scoped>\n",
       "    .dataframe tbody tr th:only-of-type {\n",
       "        vertical-align: middle;\n",
       "    }\n",
       "\n",
       "    .dataframe tbody tr th {\n",
       "        vertical-align: top;\n",
       "    }\n",
       "\n",
       "    .dataframe thead th {\n",
       "        text-align: right;\n",
       "    }\n",
       "</style>\n",
       "<table border=\"1\" class=\"dataframe\">\n",
       "  <thead>\n",
       "    <tr style=\"text-align: right;\">\n",
       "      <th></th>\n",
       "      <th>0</th>\n",
       "      <th>1</th>\n",
       "      <th>2</th>\n",
       "      <th>3</th>\n",
       "      <th>4</th>\n",
       "      <th>5</th>\n",
       "      <th>6</th>\n",
       "      <th>7</th>\n",
       "      <th>8</th>\n",
       "    </tr>\n",
       "  </thead>\n",
       "  <tbody>\n",
       "    <tr>\n",
       "      <th>0</th>\n",
       "      <td>nyc</td>\n",
       "      <td>new york</td>\n",
       "      <td>usa</td>\n",
       "      <td>None</td>\n",
       "      <td>None</td>\n",
       "      <td>None</td>\n",
       "      <td>None</td>\n",
       "      <td>None</td>\n",
       "      <td>None</td>\n",
       "    </tr>\n",
       "    <tr>\n",
       "      <th>1</th>\n",
       "      <td>stockton</td>\n",
       "      <td>california</td>\n",
       "      <td>usa</td>\n",
       "      <td>None</td>\n",
       "      <td>None</td>\n",
       "      <td>None</td>\n",
       "      <td>None</td>\n",
       "      <td>None</td>\n",
       "      <td>None</td>\n",
       "    </tr>\n",
       "  </tbody>\n",
       "</table>\n",
       "</div>"
      ],
      "text/plain": [
       "          0            1     2     3     4     5     6     7     8\n",
       "0       nyc     new york   usa  None  None  None  None  None  None\n",
       "1  stockton   california   usa  None  None  None  None  None  None"
      ]
     },
     "execution_count": 4,
     "metadata": {},
     "output_type": "execute_result"
    }
   ],
   "source": [
    "df= users.Location.str.split(',',expand=True,)       #l'ideale sarebbe stato ottenere solo 3 colonne, \n",
    "                                                     #vuol dire che i dati non sono stati regisrati correttamente\n",
    "df.head(2)"
   ]
  },
  {
   "cell_type": "code",
   "execution_count": 5,
   "metadata": {},
   "outputs": [
    {
     "data": {
      "text/plain": [
       "1508"
      ]
     },
     "execution_count": 5,
     "metadata": {},
     "output_type": "execute_result"
    }
   ],
   "source": [
    "df[3].notnull().sum()                               #Si quantificano grosso modo le righe con campo Location non corretto"
   ]
  },
  {
   "cell_type": "code",
   "execution_count": 6,
   "metadata": {},
   "outputs": [],
   "source": [
    "users['Location'] = users['Location'].str.replace(r'\\b(\\w+)(,+\\s+\\1)+\\b', r'\\1')     #Si prova a risolvere il problema, eliminando i duplicati"
   ]
  },
  {
   "cell_type": "code",
   "execution_count": 7,
   "metadata": {},
   "outputs": [
    {
     "data": {
      "text/plain": [
       "1281"
      ]
     },
     "execution_count": 7,
     "metadata": {},
     "output_type": "execute_result"
    }
   ],
   "source": [
    "df= users.Location.str.split(',',expand=True,)     #Si riesegue lo split\n",
    "df[3].notnull().sum()                              #e si riquantificano gli errori, che sono minori"
   ]
  },
  {
   "cell_type": "code",
   "execution_count": 8,
   "metadata": {},
   "outputs": [],
   "source": [
    "df = df[df[3].isna()]                              #Vengono eliminate le rows con errori"
   ]
  },
  {
   "cell_type": "markdown",
   "metadata": {},
   "source": [
    "Le nuove colonne city, region e country vengono importate nel dataset users"
   ]
  },
  {
   "cell_type": "code",
   "execution_count": 9,
   "metadata": {},
   "outputs": [
    {
     "data": {
      "text/html": [
       "<div>\n",
       "<style scoped>\n",
       "    .dataframe tbody tr th:only-of-type {\n",
       "        vertical-align: middle;\n",
       "    }\n",
       "\n",
       "    .dataframe tbody tr th {\n",
       "        vertical-align: top;\n",
       "    }\n",
       "\n",
       "    .dataframe thead th {\n",
       "        text-align: right;\n",
       "    }\n",
       "</style>\n",
       "<table border=\"1\" class=\"dataframe\">\n",
       "  <thead>\n",
       "    <tr style=\"text-align: right;\">\n",
       "      <th></th>\n",
       "      <th>User-ID</th>\n",
       "      <th>Age</th>\n",
       "      <th>city</th>\n",
       "      <th>region</th>\n",
       "      <th>country</th>\n",
       "    </tr>\n",
       "  </thead>\n",
       "  <tbody>\n",
       "    <tr>\n",
       "      <th>0</th>\n",
       "      <td>1</td>\n",
       "      <td>NaN</td>\n",
       "      <td>nyc</td>\n",
       "      <td>new york</td>\n",
       "      <td>usa</td>\n",
       "    </tr>\n",
       "    <tr>\n",
       "      <th>1</th>\n",
       "      <td>2</td>\n",
       "      <td>18.0</td>\n",
       "      <td>stockton</td>\n",
       "      <td>california</td>\n",
       "      <td>usa</td>\n",
       "    </tr>\n",
       "  </tbody>\n",
       "</table>\n",
       "</div>"
      ],
      "text/plain": [
       "   User-ID   Age      city       region country\n",
       "0        1   NaN       nyc     new york     usa\n",
       "1        2  18.0  stockton   california     usa"
      ]
     },
     "execution_count": 9,
     "metadata": {},
     "output_type": "execute_result"
    }
   ],
   "source": [
    "users[['city', 'region', 'country']]=df[[0,1,2]]\n",
    "users=users[['User-ID','Age','city','region','country']]       #Nelle istanze con il dato Location raccolto male ci saranno dei null value, si\n",
    "users.head(2)                                                  #è deciso di operare in questa maniera e non cancellando l'intera riga, \n",
    "                                                               #in modo da non perdere le altre indicazioni presenti"
   ]
  },
  {
   "cell_type": "markdown",
   "metadata": {},
   "source": [
    "**2. For each book in the Books dataset, compute its average rating.**"
   ]
  },
  {
   "cell_type": "markdown",
   "metadata": {},
   "source": [
    "I dataset books e books_rating vengono uniti, tramite la chiave ISBN"
   ]
  },
  {
   "cell_type": "code",
   "execution_count": 10,
   "metadata": {},
   "outputs": [],
   "source": [
    "books_finale=pd.merge(books, books_rating, left_on='ISBN', right_on='ISBN', how='left')"
   ]
  },
  {
   "cell_type": "markdown",
   "metadata": {},
   "source": [
    "Si esegue una groupby per l'attributo ISBN e su di essa si esegue una media, cosi da ottenere il rating medio per ogni libro"
   ]
  },
  {
   "cell_type": "code",
   "execution_count": 11,
   "metadata": {},
   "outputs": [],
   "source": [
    "avg_books_rating=books_finale.groupby('ISBN').mean()['Book-Rating']"
   ]
  },
  {
   "cell_type": "markdown",
   "metadata": {},
   "source": [
    "**3. For each book in the GoodBooks dataset, compute its average rating.**"
   ]
  },
  {
   "cell_type": "markdown",
   "metadata": {},
   "source": [
    "I dataset goodbooks e goodbooks_rating vengono uniti tramite la chiave book_id "
   ]
  },
  {
   "cell_type": "code",
   "execution_count": 12,
   "metadata": {},
   "outputs": [],
   "source": [
    "goodbooks_finale=pd.merge(goodbooks, goodbooks_rating, left_on='book_id', right_on='book_id', how='left')"
   ]
  },
  {
   "cell_type": "markdown",
   "metadata": {},
   "source": [
    "Si esegue una groupby per l'attributo book_id e su di essa si esegue una media, cosi da ottenere il rating medio per ogni libro"
   ]
  },
  {
   "cell_type": "code",
   "execution_count": 13,
   "metadata": {},
   "outputs": [],
   "source": [
    "avg_goodbooks_rating=goodbooks_finale.groupby('book_id').mean()['rating']"
   ]
  },
  {
   "cell_type": "markdown",
   "metadata": {},
   "source": [
    "**4. Merge together all rows sharing the same book title, author and publisher. We will call the resulting datset merged books. The books that have not been merged together will not appear in merged books.**"
   ]
  },
  {
   "cell_type": "markdown",
   "metadata": {},
   "source": [
    "Si esegue una groupby contemporaneamente per book title, author and publisher, si imposta il filtro con len > 1 per escludere tutti i libri\n",
    "che non sono stati raggruppati"
   ]
  },
  {
   "cell_type": "code",
   "execution_count": 14,
   "metadata": {},
   "outputs": [],
   "source": [
    "merged_books=books.groupby(['Book-Title','Book-Author','Publisher']).filter(lambda x: len(x) > 1)"
   ]
  },
  {
   "cell_type": "markdown",
   "metadata": {},
   "source": [
    "**5. For each book in merged books compute its average rating.**"
   ]
  },
  {
   "cell_type": "markdown",
   "metadata": {},
   "source": [
    "I dataset merged_books e books_rating vengono uniti tramite la chiave ISBN"
   ]
  },
  {
   "cell_type": "code",
   "execution_count": 15,
   "metadata": {},
   "outputs": [],
   "source": [
    "merged_books_finale=pd.merge(merged_books, books_rating, left_on='ISBN', right_on='ISBN')"
   ]
  },
  {
   "cell_type": "markdown",
   "metadata": {},
   "source": [
    "Si esegue una groupby per l'attributo ISBN e su di essa si esegue una media, cosi da ottenere il rating medio per ogni libro raggruppato"
   ]
  },
  {
   "cell_type": "code",
   "execution_count": 16,
   "metadata": {},
   "outputs": [],
   "source": [
    "avg_rat_m_b_finale=merged_books_finale.groupby('Book-Title')['Book-Rating'].mean()"
   ]
  },
  {
   "cell_type": "markdown",
   "metadata": {},
   "source": [
    "**6. For each book in merged books compute the minimum and maximum of the average ratings over all corresponding books in the books dataset.**"
   ]
  },
  {
   "cell_type": "markdown",
   "metadata": {},
   "source": [
    "Vengono eseguiti il minimo ed il massimo, e poi aggiunti con una concatenazione al dataset merged_rating originale"
   ]
  },
  {
   "cell_type": "code",
   "execution_count": 17,
   "metadata": {},
   "outputs": [],
   "source": [
    "max_rat_m_b_finale=merged_books_finale.groupby('Book-Title')['Book-Rating'].max()\n",
    "min_rat_m_b_finale=merged_books_finale.groupby('Book-Title')['Book-Rating'].min()\n",
    "merged_rating=pd.concat([avg_rat_m_b_finale, max_rat_m_b_finale, min_rat_m_b_finale], axis=1)\n",
    "merged_rating.columns = ['AVG', 'MAX', 'MIN']"
   ]
  },
  {
   "cell_type": "markdown",
   "metadata": {},
   "source": [
    "**7. For each book in goodbooks, compute the list of its authors. Assuming that the number of reviews with a text (column work_text_reviews_count) is split equally among all authors, find for each authors the total number of reviews with a text. We will call this quantity the shared number of reviews with a text.**"
   ]
  },
  {
   "cell_type": "markdown",
   "metadata": {},
   "source": [
    "Il testo del campo authors in goodbooks viene normalizzato"
   ]
  },
  {
   "cell_type": "code",
   "execution_count": 18,
   "metadata": {},
   "outputs": [],
   "source": [
    "goodbooks['authors'] = goodbooks['authors'].apply(str)\n",
    "goodbooks['authors'] = goodbooks['authors'].str.lower()\n",
    "goodbooks['authors'] = goodbooks['authors'].str.replace(r'\\d+', '', regex=True)"
   ]
  },
  {
   "cell_type": "markdown",
   "metadata": {},
   "source": [
    "Il campo authors viene splittato per ottenere tutti gli attori in colonne separate"
   ]
  },
  {
   "cell_type": "code",
   "execution_count": 19,
   "metadata": {},
   "outputs": [],
   "source": [
    "authors= goodbooks.authors.str.split(',',expand=True,)\n",
    "authors=pd.concat([goodbooks['title'],authors,goodbooks['work_text_reviews_count']], axis=1)"
   ]
  },
  {
   "cell_type": "markdown",
   "metadata": {},
   "source": [
    "Viene creata la funzione found_authors in grado di trovare tutti gli attori presenti e costruirne una lista"
   ]
  },
  {
   "cell_type": "code",
   "execution_count": 20,
   "metadata": {},
   "outputs": [],
   "source": [
    "def found_authors(df):\n",
    "    autori=[]\n",
    "    for a in range(0,5):\n",
    "        for i in df[a]:\n",
    "            if i != None and i not in autori:\n",
    "                autori.append(i)\n",
    "    return(autori)"
   ]
  },
  {
   "cell_type": "code",
   "execution_count": 21,
   "metadata": {},
   "outputs": [],
   "source": [
    "autori=found_authors(authors)"
   ]
  },
  {
   "cell_type": "markdown",
   "metadata": {},
   "source": [
    "Viene creata la funzione conta, con l'obiettivo di contare il numero di autori per titolo di film"
   ]
  },
  {
   "cell_type": "code",
   "execution_count": 22,
   "metadata": {},
   "outputs": [],
   "source": [
    "def conta (df):\n",
    "    conteggio=[]\n",
    "    for i in range(0,99):\n",
    "        count=0\n",
    "        for e in range(0,5):\n",
    "                if df[e].iloc[i]!=None:\n",
    "                    count=count+1\n",
    "        conteggio.append(count)\n",
    "    return(conteggio)"
   ]
  },
  {
   "cell_type": "code",
   "execution_count": 23,
   "metadata": {},
   "outputs": [],
   "source": [
    "conteggio=conta(authors)\n",
    "authors['conteggio']=conteggio"
   ]
  },
  {
   "cell_type": "markdown",
   "metadata": {},
   "source": [
    "Si calcolano le work_text_reviews_count ad autore per libro"
   ]
  },
  {
   "cell_type": "code",
   "execution_count": 24,
   "metadata": {},
   "outputs": [],
   "source": [
    "authors['reviews_per_author']=authors['work_text_reviews_count']/authors['conteggio']"
   ]
  },
  {
   "cell_type": "markdown",
   "metadata": {},
   "source": [
    "Viene creata la funzione reviews, con l'obiettivo di calcolare la somma totale delle work_text_reviews per authors"
   ]
  },
  {
   "cell_type": "code",
   "execution_count": 25,
   "metadata": {},
   "outputs": [],
   "source": [
    "def reviews(df):\n",
    "    reviews=[]\n",
    "    for a in autori:\n",
    "        conta=0\n",
    "        for i in range(0,99):\n",
    "            for e in range(0,5):\n",
    "                if a == df[e].iloc[i]:\n",
    "                    conta=conta+df['reviews_per_author'].iloc[i]\n",
    "        reviews.append(conta)\n",
    "    return(reviews)"
   ]
  },
  {
   "cell_type": "code",
   "execution_count": 26,
   "metadata": {},
   "outputs": [],
   "source": [
    "shared_number_of_reviews_with_a_text=reviews(authors)"
   ]
  },
  {
   "cell_type": "code",
   "execution_count": 27,
   "metadata": {},
   "outputs": [],
   "source": [
    "authors_final = pd.DataFrame(list(zip(autori, shared_number_of_reviews_with_a_text)),columns=['autori','shared_number_of_reviews_with_a_text'])"
   ]
  },
  {
   "cell_type": "markdown",
   "metadata": {},
   "source": [
    "**8. For each year of publication, determine the author that has the largest value of the shared number of reviews with a text.**"
   ]
  },
  {
   "cell_type": "markdown",
   "metadata": {},
   "source": [
    "Si corregge il campo isbn in goodbooks nel quale erano stati rimossi degli zero in fase di realizzazione, e si normalizza il testo\n",
    "del campo Book-Author in books"
   ]
  },
  {
   "cell_type": "code",
   "execution_count": 28,
   "metadata": {},
   "outputs": [],
   "source": [
    "goodbooks['isbn'] = goodbooks['isbn'].apply(str)\n",
    "goodbooks['isbn'] = goodbooks['isbn'].apply(lambda x: x.zfill(10))\n",
    "books['Book-Author'] = books['Book-Author'].apply(str)\n",
    "books['Book-Author'] = books['Book-Author'].str.lower()\n",
    "books['Book-Author'] = books['Book-Author'].str.replace(r'\\d+', '', regex=True)"
   ]
  },
  {
   "cell_type": "markdown",
   "metadata": {},
   "source": [
    "Vengono uniti il dataset authors_final e books"
   ]
  },
  {
   "cell_type": "code",
   "execution_count": 29,
   "metadata": {},
   "outputs": [],
   "source": [
    "libri=pd.merge(authors_final, books, left_on='autori', right_on='Book-Author')"
   ]
  },
  {
   "cell_type": "markdown",
   "metadata": {},
   "source": [
    "Per ogni anno si visualizza l'autore con più alto numero di reviews with a text"
   ]
  },
  {
   "cell_type": "code",
   "execution_count": 30,
   "metadata": {},
   "outputs": [],
   "source": [
    "result=libri.groupby('Year-Of-Publication').idxmax()['shared_number_of_reviews_with_a_text']"
   ]
  },
  {
   "cell_type": "code",
   "execution_count": 31,
   "metadata": {},
   "outputs": [],
   "source": [
    "autforyear=libri[['Year-Of-Publication','autori','shared_number_of_reviews_with_a_text']].iloc[result]"
   ]
  },
  {
   "cell_type": "markdown",
   "metadata": {},
   "source": [
    "**9. Assuming that there are no errors in the ISBN fields, find the books in both datasets, and compute the difference of average rating according to the ratings and the goodratings datasets**"
   ]
  },
  {
   "cell_type": "markdown",
   "metadata": {},
   "source": [
    "Si corregge il campo isbn in goodbooks_finale nel quale erano stati rimossi degli zero in fase di realizzazione"
   ]
  },
  {
   "cell_type": "code",
   "execution_count": 32,
   "metadata": {},
   "outputs": [],
   "source": [
    "goodbooks_finale['isbn'] = goodbooks_finale['isbn'].apply(str)\n",
    "goodbooks_finale['isbn'] =goodbooks_finale['isbn'].apply(lambda x: x.zfill(10))"
   ]
  },
  {
   "cell_type": "markdown",
   "metadata": {},
   "source": [
    "I dataset books_finale e goodbooks_finale sono uniti tramite i rispettivi attributi ISBN e isbn"
   ]
  },
  {
   "cell_type": "code",
   "execution_count": 33,
   "metadata": {},
   "outputs": [],
   "source": [
    "mergedbooks2=pd.merge(books_finale, goodbooks_finale, left_on='ISBN', right_on='isbn')"
   ]
  },
  {
   "cell_type": "markdown",
   "metadata": {},
   "source": [
    "Si trova la media dei rating"
   ]
  },
  {
   "cell_type": "code",
   "execution_count": 34,
   "metadata": {},
   "outputs": [],
   "source": [
    "avg_mergedbooks2=mergedbooks2.groupby('ISBN').mean()[['rating','Book-Rating']]"
   ]
  },
  {
   "cell_type": "markdown",
   "metadata": {},
   "source": [
    "Si calcola la differenza tra rating"
   ]
  },
  {
   "cell_type": "code",
   "execution_count": 35,
   "metadata": {},
   "outputs": [],
   "source": [
    "avg_mergedbooks2['diff_rating']=avg_mergedbooks2['Book-Rating']-avg_mergedbooks2['rating']\n",
    "avg_mergedbooks2 = avg_mergedbooks2.set_axis(['books_rating', 'goodbooks_rating', 'diff_rating'], axis=1, inplace=False)\n",
    "avg_mergedbooks2 = avg_mergedbooks2.dropna()             #vengono eliminate le righe inutili perchè avevano una mancanza in uno dei due rating"
   ]
  },
  {
   "cell_type": "markdown",
   "metadata": {},
   "source": [
    "**10. Split the users dataset according to the age. One dataset contains the users with unknown age, one with age 0-14, one with age 15-24, one with age 25-34, and so on.**"
   ]
  },
  {
   "cell_type": "markdown",
   "metadata": {},
   "source": [
    "Il dataset users viene diviso in tanti dataset in base alle fasce d'età"
   ]
  },
  {
   "cell_type": "code",
   "execution_count": 36,
   "metadata": {},
   "outputs": [],
   "source": [
    "users_nan=users[users['Age'].isnull()]\n",
    "users_0_14=users[users['Age']<=14]\n",
    "users_15_24=users[users['Age']<=24]\n",
    "users_25_34=users[users['Age']<=34]\n",
    "users_35_44=users[users['Age']<=44]\n",
    "users_45_54=users[users['Age']<=54]\n",
    "users_55_64=users[users['Age']<=64]\n",
    "users_65_74=users[users['Age']<=74]\n",
    "users_75_84=users[users['Age']<=84]\n",
    "users_85_94=users[users['Age']<=94]\n",
    "users_95_104=users[users['Age']<=104]"
   ]
  },
  {
   "cell_type": "markdown",
   "metadata": {},
   "source": [
    "**11. Find the books that appear only in the goodbooks datasets.**"
   ]
  },
  {
   "cell_type": "markdown",
   "metadata": {},
   "source": [
    "Si cercano i libri di goodbooks in books e si pone la condizione false"
   ]
  },
  {
   "cell_type": "code",
   "execution_count": 37,
   "metadata": {},
   "outputs": [],
   "source": [
    "goodbooks_not_in_books = goodbooks[goodbooks.isbn.isin(books.ISBN) == False]"
   ]
  },
  {
   "cell_type": "markdown",
   "metadata": {},
   "source": [
    "**12. Assuming that each pair (author, title) identifies a book, for each book find the number of times it appears in the books dataset. Which books appear the most times?**"
   ]
  },
  {
   "cell_type": "markdown",
   "metadata": {},
   "source": [
    "Si è utilizzato size per calcolare il numero di volte che si è raggruppato e poi si è trovato il massimo"
   ]
  },
  {
   "cell_type": "code",
   "execution_count": 38,
   "metadata": {},
   "outputs": [],
   "source": [
    "df12=books.groupby(['Book-Title','Book-Author']).size().reset_index(name='count')\n",
    "book_max=df12[df12['count']==df12['count'].max()]"
   ]
  },
  {
   "cell_type": "markdown",
   "metadata": {},
   "source": [
    "**13. Find the author with the highest average rating according to the goodbooks datasets**"
   ]
  },
  {
   "cell_type": "markdown",
   "metadata": {},
   "source": [
    "Si è aggionato il dataset goodbooks_finale con gli autori scritti normalizzati"
   ]
  },
  {
   "cell_type": "code",
   "execution_count": 39,
   "metadata": {},
   "outputs": [],
   "source": [
    "goodbooks_finale=pd.merge(goodbooks, goodbooks_rating, left_on='book_id', right_on='book_id', how='left')"
   ]
  },
  {
   "cell_type": "markdown",
   "metadata": {},
   "source": [
    "Per comodità si è deciso di creare un'altro dataset degli autori, così da inserire i rating"
   ]
  },
  {
   "cell_type": "code",
   "execution_count": 40,
   "metadata": {},
   "outputs": [],
   "source": [
    "authors2= goodbooks_finale.authors.str.split(',',expand=True,)\n",
    "authors2=pd.concat([goodbooks_finale['title'],authors2,goodbooks_finale['rating']], axis=1)"
   ]
  },
  {
   "cell_type": "code",
   "execution_count": 41,
   "metadata": {},
   "outputs": [],
   "source": [
    "autori2=found_authors(authors2)"
   ]
  },
  {
   "cell_type": "markdown",
   "metadata": {},
   "source": [
    "Si è creata la funzione voto_medio per creare il voto medio del rating per autore"
   ]
  },
  {
   "cell_type": "code",
   "execution_count": 42,
   "metadata": {},
   "outputs": [],
   "source": [
    "def voto_medio(df):\n",
    "    votazione=[]\n",
    "    conteggio=[]\n",
    "    for a in autori2:\n",
    "        voto=0\n",
    "        conta=0\n",
    "        for i in range(0,102):\n",
    "            for e in range(0,5):\n",
    "                if a == df[e].iloc[i]:\n",
    "                    voto=voto+df['rating'].iloc[i]\n",
    "                    conta=conta+1\n",
    "        votazione.append(voto)\n",
    "        conteggio.append(conta)\n",
    "    voto_medio=[a/b for a,b in zip(votazione, conteggio)]\n",
    "        \n",
    "    return(voto_medio)"
   ]
  },
  {
   "cell_type": "code",
   "execution_count": 43,
   "metadata": {},
   "outputs": [],
   "source": [
    "votazione=voto_medio(authors2)"
   ]
  },
  {
   "cell_type": "code",
   "execution_count": 44,
   "metadata": {},
   "outputs": [],
   "source": [
    "authors_final2 = pd.DataFrame(list(zip(autori2, votazione)),columns=['autori','voto_medio'])"
   ]
  },
  {
   "cell_type": "markdown",
   "metadata": {},
   "source": [
    "E'stato trovato l'autore con voto medio maggiore"
   ]
  },
  {
   "cell_type": "code",
   "execution_count": 45,
   "metadata": {},
   "outputs": [
    {
     "data": {
      "text/plain": [
       "autori        paulo coelho\n",
       "voto_medio               5\n",
       "Name: 23, dtype: object"
      ]
     },
     "execution_count": 45,
     "metadata": {},
     "output_type": "execute_result"
    }
   ],
   "source": [
    "authors_final2.iloc[authors_final2['voto_medio'].idxmax()]"
   ]
  }
 ],
 "metadata": {
  "kernelspec": {
   "display_name": "Python 3",
   "language": "python",
   "name": "python3"
  },
  "language_info": {
   "codemirror_mode": {
    "name": "ipython",
    "version": 3
   },
   "file_extension": ".py",
   "mimetype": "text/x-python",
   "name": "python",
   "nbconvert_exporter": "python",
   "pygments_lexer": "ipython3",
   "version": "3.8.3"
  }
 },
 "nbformat": 4,
 "nbformat_minor": 4
}
